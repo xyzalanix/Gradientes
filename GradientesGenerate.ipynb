{
  "nbformat": 4,
  "nbformat_minor": 0,
  "metadata": {
    "colab": {
      "name": "GradientesGenerate.ipynb",
      "provenance": [],
      "collapsed_sections": [],
      "toc_visible": true,
      "machine_shape": "hm",
      "include_colab_link": true
    },
    "kernelspec": {
      "name": "python3",
      "display_name": "Python 3"
    },
    "accelerator": "GPU"
  },
  "cells": [
    {
      "cell_type": "markdown",
      "metadata": {
        "id": "view-in-github",
        "colab_type": "text"
      },
      "source": [
        "<a href=\"https://colab.research.google.com/github/xyzalanix/Gradientes/blob/master/GradientesGenerate.ipynb\" target=\"_parent\"><img src=\"https://colab.research.google.com/assets/colab-badge.svg\" alt=\"Open In Colab\"/></a>"
      ]
    },
    {
      "cell_type": "markdown",
      "metadata": {
        "id": "W91IhMuVIELi",
        "colab_type": "text"
      },
      "source": [
        "# Descargar Source Code"
      ]
    },
    {
      "cell_type": "code",
      "metadata": {
        "id": "UMdpKY1XODz2",
        "colab_type": "code",
        "colab": {
          "base_uri": "https://localhost:8080/",
          "height": 485
        },
        "outputId": "05206786-996d-4fb1-c754-90779a8d4a38"
      },
      "source": [
        "%tensorflow_version 1.x\n",
        "%cd /content/\n",
        "!mkdir stylegan2-colab\n",
        "%cd stylegan2-colab/\n",
        "!git clone https://github.com/xyzalanix/stylegan2\n",
        "!pip install opensimplex\n",
        "%cd stylegan2\n",
        "!mkdir pkl\n",
        "%cd pkl\n",
        "!gdown --id 1JLqXE5bGZnlu2BkbLPD5_ZxoO3Nz-AvF\n",
        "%cd ../"
      ],
      "execution_count": null,
      "outputs": [
        {
          "output_type": "stream",
          "text": [
            "TensorFlow 1.x selected.\n",
            "/content\n",
            "/content/stylegan2-colab\n",
            "Cloning into 'stylegan2'...\n",
            "remote: Enumerating objects: 13, done.\u001b[K\n",
            "remote: Counting objects: 100% (13/13), done.\u001b[K\n",
            "remote: Compressing objects: 100% (9/9), done.\u001b[K\n",
            "remote: Total 433 (delta 7), reused 10 (delta 4), pack-reused 420\u001b[K\n",
            "Receiving objects: 100% (433/433), 15.32 MiB | 29.43 MiB/s, done.\n",
            "Resolving deltas: 100% (245/245), done.\n",
            "Collecting opensimplex\n",
            "  Downloading https://files.pythonhosted.org/packages/60/b4/ca7d6b64166341a951a980628d1cf471947ac00b1eabfbc2008edb4cae32/opensimplex-0.3.tar.gz\n",
            "Building wheels for collected packages: opensimplex\n",
            "  Building wheel for opensimplex (setup.py) ... \u001b[?25l\u001b[?25hdone\n",
            "  Created wheel for opensimplex: filename=opensimplex-0.3-cp36-none-any.whl size=14315 sha256=3699b229a5d7469ba8cc08f285c9c10f85b66d5f10957740c33f99a4517435c7\n",
            "  Stored in directory: /root/.cache/pip/wheels/d9/91/27/23b6b8e6237b2b274e128a53a2979644d2978a8968cfbae542\n",
            "Successfully built opensimplex\n",
            "Installing collected packages: opensimplex\n",
            "Successfully installed opensimplex-0.3\n",
            "/content/stylegan2-colab/stylegan2\n",
            "/content/stylegan2-colab/stylegan2/pkl\n",
            "Downloading...\n",
            "From: https://drive.google.com/uc?id=1JLqXE5bGZnlu2BkbLPD5_ZxoO3Nz-AvF\n",
            "To: /content/stylegan2-colab/stylegan2/pkl/inception_v3_features.pkl\n",
            "87.3MB [00:00, 107MB/s] \n",
            "/content/stylegan2-colab/stylegan2\n"
          ],
          "name": "stdout"
        }
      ]
    },
    {
      "cell_type": "markdown",
      "metadata": {
        "id": "DNQws4Z9JV-Q",
        "colab_type": "text"
      },
      "source": [
        "# Descargar Modelos de Gradientes\n",
        "\n",
        "3 archivos que generan gradientes distintos."
      ]
    },
    {
      "cell_type": "code",
      "metadata": {
        "id": "GVzXAeEqJDql",
        "colab_type": "code",
        "colab": {
          "base_uri": "https://localhost:8080/",
          "height": 269
        },
        "outputId": "3bfd4600-84d6-4dfb-8e63-451514ee886d"
      },
      "source": [
        "!mkdir results\n",
        "!mkdir results/00000-pretrained\n",
        "%cd results/00000-pretrained\n",
        "!gdown --id 17Fl0EEFsP8HAwkMsBXN-uON6y-783GVR -O ./grainy.pkl\n",
        "!gdown --id 17M0DS9UnfGwxb99s-R-j81oCWpYN0BUI -O ./clean.pkl\n",
        "!gdown --id 15X-cQ-DjbUT32vkyrcCksZnwF787OLm_ -O ./dark.pkl\n",
        "%cd ../../"
      ],
      "execution_count": null,
      "outputs": [
        {
          "output_type": "stream",
          "text": [
            "/content/stylegan2-colab/stylegan2/results/00000-pretrained\n",
            "Downloading...\n",
            "From: https://drive.google.com/uc?id=17Fl0EEFsP8HAwkMsBXN-uON6y-783GVR\n",
            "To: /content/stylegan2-colab/stylegan2/results/00000-pretrained/grainy.pkl\n",
            "382MB [00:02, 158MB/s]\n",
            "Downloading...\n",
            "From: https://drive.google.com/uc?id=17M0DS9UnfGwxb99s-R-j81oCWpYN0BUI\n",
            "To: /content/stylegan2-colab/stylegan2/results/00000-pretrained/clean.pkl\n",
            "382MB [00:03, 124MB/s] \n",
            "Downloading...\n",
            "From: https://drive.google.com/uc?id=15X-cQ-DjbUT32vkyrcCksZnwF787OLm_\n",
            "To: /content/stylegan2-colab/stylegan2/results/00000-pretrained/dark.pkl\n",
            "382MB [00:02, 138MB/s]\n",
            "/content/stylegan2-colab/stylegan2\n"
          ],
          "name": "stdout"
        }
      ]
    },
    {
      "cell_type": "markdown",
      "metadata": {
        "id": "BTwJjmCrlfAc",
        "colab_type": "text"
      },
      "source": [
        "#Latent Walk\n",
        "\n",
        "Aquí, las **--seeds=** son los checkpoints que va a recorrer el video. \n",
        "\n",
        "Si empiezan y acaban en el mismo número, hacemos un loop.\n",
        "\n",
        "Primero creamos los frames y luego las hacemos video.\n"
      ]
    },
    {
      "cell_type": "markdown",
      "metadata": {
        "id": "TpdodBdkiqtH",
        "colab_type": "text"
      },
      "source": [
        "En la parte de `--network`, hay 3 opciones: \n",
        "\n",
        "\n",
        "grainy.pkl\n",
        "\n",
        "clean.pkl\n",
        "\n",
        "dark.pkl"
      ]
    },
    {
      "cell_type": "code",
      "metadata": {
        "id": "A79O8NcXBHFG",
        "colab_type": "code",
        "colab": {
          "base_uri": "https://localhost:8080/",
          "height": 1000
        },
        "outputId": "664de105-7ef5-488a-fb30-d6acb69882e0"
      },
      "source": [
        "!python run_generator.py truncation-traversal --network=/content/stylegan2-colab/stylegan2/results/00000-pretrained/clean.pkl --seed=120720 --start=-1.6 --stop=1.6 --increment=0.02"
      ],
      "execution_count": 9,
      "outputs": [
        {
          "output_type": "stream",
          "text": [
            "Local submit - run_dir: results/00005-truncation-traversal\n",
            "dnnlib: Running run_generator.truncation_traversal() on localhost...\n",
            "Loading networks from \"/content/stylegan2-colab/stylegan2/results/00000-pretrained/clean.pkl\"...\n",
            "Setting up TensorFlow plugin \"fused_bias_act.cu\": Preprocessing... Loading... Done.\n",
            "Setting up TensorFlow plugin \"upfirdn_2d.cu\": Preprocessing... Loading... Done.\n",
            "Generating truncation -1.60\n",
            "Generating truncation -1.58\n",
            "Generating truncation -1.56\n",
            "Generating truncation -1.54\n",
            "Generating truncation -1.52\n",
            "Generating truncation -1.50\n",
            "Generating truncation -1.48\n",
            "Generating truncation -1.46\n",
            "Generating truncation -1.44\n",
            "Generating truncation -1.42\n",
            "Generating truncation -1.40\n",
            "Generating truncation -1.38\n",
            "Generating truncation -1.36\n",
            "Generating truncation -1.34\n",
            "Generating truncation -1.32\n",
            "Generating truncation -1.30\n",
            "Generating truncation -1.28\n",
            "Generating truncation -1.26\n",
            "Generating truncation -1.24\n",
            "Generating truncation -1.22\n",
            "Generating truncation -1.20\n",
            "Generating truncation -1.18\n",
            "Generating truncation -1.16\n",
            "Generating truncation -1.14\n",
            "Generating truncation -1.12\n",
            "Generating truncation -1.10\n",
            "Generating truncation -1.08\n",
            "Generating truncation -1.06\n",
            "Generating truncation -1.04\n",
            "Generating truncation -1.02\n",
            "Generating truncation -1.00\n",
            "Generating truncation -0.98\n",
            "Generating truncation -0.96\n",
            "Generating truncation -0.94\n",
            "Generating truncation -0.92\n",
            "Generating truncation -0.90\n",
            "Generating truncation -0.88\n",
            "Generating truncation -0.86\n",
            "Generating truncation -0.84\n",
            "Generating truncation -0.82\n",
            "Generating truncation -0.80\n",
            "Generating truncation -0.78\n",
            "Generating truncation -0.76\n",
            "Generating truncation -0.74\n",
            "Generating truncation -0.72\n",
            "Generating truncation -0.70\n",
            "Generating truncation -0.68\n",
            "Generating truncation -0.66\n",
            "Generating truncation -0.64\n",
            "Generating truncation -0.62\n",
            "Generating truncation -0.60\n",
            "Generating truncation -0.58\n",
            "Generating truncation -0.56\n",
            "Generating truncation -0.54\n",
            "Generating truncation -0.52\n",
            "Generating truncation -0.50\n",
            "Generating truncation -0.48\n",
            "Generating truncation -0.46\n",
            "Generating truncation -0.44\n",
            "Generating truncation -0.42\n",
            "Generating truncation -0.40\n",
            "Generating truncation -0.38\n",
            "Generating truncation -0.36\n",
            "Generating truncation -0.34\n",
            "Generating truncation -0.32\n",
            "Generating truncation -0.30\n",
            "Generating truncation -0.28\n",
            "Generating truncation -0.26\n",
            "Generating truncation -0.24\n",
            "Generating truncation -0.22\n",
            "Generating truncation -0.20\n",
            "Generating truncation -0.18\n",
            "Generating truncation -0.16\n",
            "Generating truncation -0.14\n",
            "Generating truncation -0.12\n",
            "Generating truncation -0.10\n",
            "Generating truncation -0.08\n",
            "Generating truncation -0.06\n",
            "Generating truncation -0.04\n",
            "Generating truncation -0.02\n",
            "Generating truncation 0.00\n",
            "Generating truncation 0.02\n",
            "Generating truncation 0.04\n",
            "Generating truncation 0.06\n",
            "Generating truncation 0.08\n",
            "Generating truncation 0.10\n",
            "Generating truncation 0.12\n",
            "Generating truncation 0.14\n",
            "Generating truncation 0.16\n",
            "Generating truncation 0.18\n",
            "Generating truncation 0.20\n",
            "Generating truncation 0.22\n",
            "Generating truncation 0.24\n",
            "Generating truncation 0.26\n",
            "Generating truncation 0.28\n",
            "Generating truncation 0.30\n",
            "Generating truncation 0.32\n",
            "Generating truncation 0.34\n",
            "Generating truncation 0.36\n",
            "Generating truncation 0.38\n",
            "Generating truncation 0.40\n",
            "Generating truncation 0.42\n",
            "Generating truncation 0.44\n",
            "Generating truncation 0.46\n",
            "Generating truncation 0.48\n",
            "Generating truncation 0.50\n",
            "Generating truncation 0.52\n",
            "Generating truncation 0.54\n",
            "Generating truncation 0.56\n",
            "Generating truncation 0.58\n",
            "Generating truncation 0.60\n",
            "Generating truncation 0.62\n",
            "Generating truncation 0.64\n",
            "Generating truncation 0.66\n",
            "Generating truncation 0.68\n",
            "Generating truncation 0.70\n",
            "Generating truncation 0.72\n",
            "Generating truncation 0.74\n",
            "Generating truncation 0.76\n",
            "Generating truncation 0.78\n",
            "Generating truncation 0.80\n",
            "Generating truncation 0.82\n",
            "Generating truncation 0.84\n",
            "Generating truncation 0.86\n",
            "Generating truncation 0.88\n",
            "Generating truncation 0.90\n",
            "Generating truncation 0.92\n",
            "Generating truncation 0.94\n",
            "Generating truncation 0.96\n",
            "Generating truncation 0.98\n",
            "Generating truncation 1.00\n",
            "Generating truncation 1.02\n",
            "Generating truncation 1.04\n",
            "Generating truncation 1.06\n",
            "Generating truncation 1.08\n",
            "Generating truncation 1.10\n",
            "Generating truncation 1.12\n",
            "Generating truncation 1.14\n",
            "Generating truncation 1.16\n",
            "Generating truncation 1.18\n",
            "Generating truncation 1.20\n",
            "Generating truncation 1.22\n",
            "Generating truncation 1.24\n",
            "Generating truncation 1.26\n",
            "Generating truncation 1.28\n",
            "Generating truncation 1.30\n",
            "Generating truncation 1.32\n",
            "Generating truncation 1.34\n",
            "Generating truncation 1.36\n",
            "Generating truncation 1.38\n",
            "Generating truncation 1.40\n",
            "Generating truncation 1.42\n",
            "Generating truncation 1.44\n",
            "Generating truncation 1.46\n",
            "Generating truncation 1.48\n",
            "Generating truncation 1.50\n",
            "Generating truncation 1.52\n",
            "Generating truncation 1.54\n",
            "Generating truncation 1.56\n",
            "Generating truncation 1.58\n",
            "dnnlib: Finished run_generator.truncation_traversal() in 12m 39s.\n"
          ],
          "name": "stdout"
        }
      ]
    },
    {
      "cell_type": "code",
      "metadata": {
        "id": "ZdcRe0OXDLDI",
        "colab_type": "code",
        "colab": {}
      },
      "source": [
        "#convert to video \n",
        "!ffmpeg -r 30 -i ./results/00005-truncation-traversal/frame%05d.png -vcodec libx264 -pix_fmt yuv420p ../../Bday-Tracy.mp4"
      ],
      "execution_count": null,
      "outputs": []
    },
    {
      "cell_type": "code",
      "metadata": {
        "id": "yQ2rYIC4TdaJ",
        "colab_type": "code",
        "colab": {}
      },
      "source": [
        "!python run_generator.py generate-latent-walk --network=/content/stylegan2-colab/stylegan2/results/00000-pretrained/clean.pkl --seeds=270620,280620,290620,300620,010720,020720,030720 --frames 620 --truncation-psi=0.8"
      ],
      "execution_count": null,
      "outputs": []
    },
    {
      "cell_type": "code",
      "metadata": {
        "id": "dceBSxTsmW1H",
        "colab_type": "code",
        "colab": {}
      },
      "source": [
        "#convert to video \n",
        "!ffmpeg -r 30 -i ./results/00007-generate-latent-walk/frame%05d.png -vcodec libx264 -pix_fmt yuv420p ../../Gradientes-Week-270620-0.8.mp4"
      ],
      "execution_count": null,
      "outputs": []
    },
    {
      "cell_type": "markdown",
      "metadata": {
        "id": "64Pe89hdkflr",
        "colab_type": "text"
      },
      "source": [
        "##GENERAR PACK DE IMÁGENES"
      ]
    },
    {
      "cell_type": "markdown",
      "metadata": {
        "id": "uBEAP_udxM_-",
        "colab_type": "text"
      },
      "source": [
        "En la parte de `--network`, cambiar el nombre del archivo accordingly: \n",
        "\n",
        "\n",
        "network-snapshot-010473.pkl = GRAINY, WEIRD, INTERESTING\n",
        "\n",
        "network-snapshot-010571.pkl = CLEAN, SMOOTH\n",
        "\n",
        "network-snapshot-010653.pkl = DARK"
      ]
    },
    {
      "cell_type": "code",
      "metadata": {
        "id": "l3MhXEAMOMXH",
        "colab_type": "code",
        "colab": {
          "base_uri": "https://localhost:8080/",
          "height": 251
        },
        "outputId": "4eb94c89-5def-41b5-f8c1-854dfb104c1b"
      },
      "source": [
        "!python run_generator.py generate-images --network=/content/stylegan2-colab/stylegan2/results/00000-pretrained/clean.pkl --seeds=270620,280620,290620,300620,010720,020720,030720 --truncation-psi=0.8"
      ],
      "execution_count": null,
      "outputs": [
        {
          "output_type": "stream",
          "text": [
            "Local submit - run_dir: results/00008-generate-images\n",
            "dnnlib: Running run_generator.generate_images() on localhost...\n",
            "Loading networks from \"/content/stylegan2-colab/stylegan2/results/00000-pretrained/clean.pkl\"...\n",
            "Setting up TensorFlow plugin \"fused_bias_act.cu\": Preprocessing... Loading... Done.\n",
            "Setting up TensorFlow plugin \"upfirdn_2d.cu\": Preprocessing... Loading... Done.\n",
            "Generating image for seed 270620 (1/7) ...\n",
            "Generating image for seed 280620 (2/7) ...\n",
            "Generating image for seed 290620 (3/7) ...\n",
            "Generating image for seed 300620 (4/7) ...\n",
            "Generating image for seed 10720 (5/7) ...\n",
            "Generating image for seed 20720 (6/7) ...\n",
            "Generating image for seed 30720 (7/7) ...\n",
            "dnnlib: Finished run_generator.generate_images() in 18s.\n"
          ],
          "name": "stdout"
        }
      ]
    },
    {
      "cell_type": "markdown",
      "metadata": {
        "id": "FMiqkA3IReZB",
        "colab_type": "text"
      },
      "source": [
        "# Zippear imágenes para descargar\n",
        "\n",
        "Aparecen del lado izquierdo en la pestaña de folder.\n",
        "\n",
        "Tendrás que ir cambiando el nombre del folder mientras generas (00003, 00004, etc.)"
      ]
    },
    {
      "cell_type": "code",
      "metadata": {
        "id": "tp8O01O3PlFx",
        "colab_type": "code",
        "colab": {}
      },
      "source": [
        "##Primer comando es el nombre que le das al archivo, segundo es donde está el folder que acabas de generar.\n",
        "\n",
        "!zip -r ../../Gradientes-Imgs.zip ./results/00008-generate-images"
      ],
      "execution_count": null,
      "outputs": []
    }
  ]
}