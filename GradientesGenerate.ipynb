{
  "nbformat": 4,
  "nbformat_minor": 0,
  "metadata": {
    "colab": {
      "name": "GradientesGenerate.ipynb",
      "provenance": [],
      "collapsed_sections": [],
      "toc_visible": true,
      "machine_shape": "hm",
      "include_colab_link": true
    },
    "kernelspec": {
      "name": "python3",
      "display_name": "Python 3"
    },
    "accelerator": "GPU"
  },
  "cells": [
    {
      "cell_type": "markdown",
      "metadata": {
        "id": "view-in-github",
        "colab_type": "text"
      },
      "source": [
        "<a href=\"https://colab.research.google.com/github/xyzalanix/Gradientes/blob/master/GradientesGenerate.ipynb\" target=\"_parent\"><img src=\"https://colab.research.google.com/assets/colab-badge.svg\" alt=\"Open In Colab\"/></a>"
      ]
    },
    {
      "cell_type": "markdown",
      "metadata": {
        "id": "W91IhMuVIELi",
        "colab_type": "text"
      },
      "source": [
        "# Descargar Source Code"
      ]
    },
    {
      "cell_type": "code",
      "metadata": {
        "id": "UMdpKY1XODz2",
        "colab_type": "code",
        "colab": {}
      },
      "source": [
        "%tensorflow_version 1.x\n",
        "%cd /content/\n",
        "!mkdir stylegan2-colab\n",
        "%cd stylegan2-colab/\n",
        "!git clone https://github.com/xyzalanix/stylegan2\n",
        "!pip install opensimplex\n",
        "%cd stylegan2\n",
        "!mkdir pkl\n",
        "%cd pkl\n",
        "!gdown --id 1JLqXE5bGZnlu2BkbLPD5_ZxoO3Nz-AvF\n",
        "%cd ../"
      ],
      "execution_count": null,
      "outputs": []
    },
    {
      "cell_type": "markdown",
      "metadata": {
        "id": "DNQws4Z9JV-Q",
        "colab_type": "text"
      },
      "source": [
        "# Descargar Modelos de Gradientes\n",
        "\n",
        "3 archivos que generan gradientes distintos."
      ]
    },
    {
      "cell_type": "code",
      "metadata": {
        "id": "GVzXAeEqJDql",
        "colab_type": "code",
        "colab": {}
      },
      "source": [
        "!mkdir results\n",
        "!mkdir results/00000-pretrained\n",
        "%cd results/00000-pretrained\n",
        "!gdown --id 17Fl0EEFsP8HAwkMsBXN-uON6y-783GVR -O ./grainy.pkl\n",
        "!gdown --id 17M0DS9UnfGwxb99s-R-j81oCWpYN0BUI -O ./clean.pkl\n",
        "!gdown --id 15X-cQ-DjbUT32vkyrcCksZnwF787OLm_ -O ./dark.pkl\n",
        "%cd ../../"
      ],
      "execution_count": null,
      "outputs": []
    },
    {
      "cell_type": "markdown",
      "metadata": {
        "id": "BTwJjmCrlfAc",
        "colab_type": "text"
      },
      "source": [
        "#Latent Walk\n",
        "\n",
        "Aquí, las **--seeds=** son los checkpoints que va a recorrer el video. \n",
        "\n",
        "Si empiezan y acaban en el mismo número, hacemos un loop.\n",
        "\n",
        "Primero creamos los frames y luego las hacemos video.\n"
      ]
    },
    {
      "cell_type": "markdown",
      "metadata": {
        "id": "TpdodBdkiqtH",
        "colab_type": "text"
      },
      "source": [
        "En la parte de `--network`, hay 3 opciones: \n",
        "\n",
        "\n",
        "grainy.pkl\n",
        "\n",
        "clean.pkl\n",
        "\n",
        "dark.pkl"
      ]
    },
    {
      "cell_type": "code",
      "metadata": {
        "id": "yQ2rYIC4TdaJ",
        "colab_type": "code",
        "colab": {}
      },
      "source": [
        "!python run_generator.py generate-latent-walk --network=/content/stylegan2-colab/stylegan2/results/00000-pretrained/clean.pkl --seeds=270620,280620,290620,300620,010720,020720,030720 --frames 620 --truncation-psi=0.8"
      ],
      "execution_count": null,
      "outputs": []
    },
    {
      "cell_type": "code",
      "metadata": {
        "id": "dceBSxTsmW1H",
        "colab_type": "code",
        "colab": {}
      },
      "source": [
        "#convert to video \n",
        "!ffmpeg -r 30 -i ./results/00001-generate-latent-walk/frame%05d.png -vcodec libx264 -pix_fmt yuv420p ../../Gradientes-Week-270620-0.8.mp4"
      ],
      "execution_count": null,
      "outputs": []
    },
    {
      "cell_type": "markdown",
      "metadata": {
        "id": "64Pe89hdkflr",
        "colab_type": "text"
      },
      "source": [
        "##GENERAR PACK DE IMÁGENES"
      ]
    },
    {
      "cell_type": "markdown",
      "metadata": {
        "id": "uBEAP_udxM_-",
        "colab_type": "text"
      },
      "source": [
        "En la parte de `--network`, cambiar el nombre del archivo accordingly: \n",
        "\n",
        "\n",
        "network-snapshot-010473.pkl = GRAINY, WEIRD, INTERESTING\n",
        "\n",
        "network-snapshot-010571.pkl = CLEAN, SMOOTH\n",
        "\n",
        "network-snapshot-010653.pkl = DARK"
      ]
    },
    {
      "cell_type": "code",
      "metadata": {
        "id": "l3MhXEAMOMXH",
        "colab_type": "code",
        "colab": {}
      },
      "source": [
        "!python run_generator.py generate-images --network=/content/stylegan2-colab/stylegan2/results/00000-pretrained/clean.pkl --seeds=270620,280620,290620,300620,010720,020720,030720 --truncation-psi=0.7"
      ],
      "execution_count": null,
      "outputs": []
    },
    {
      "cell_type": "markdown",
      "metadata": {
        "id": "FMiqkA3IReZB",
        "colab_type": "text"
      },
      "source": [
        "# Zippear imágenes para descargar\n",
        "\n",
        "Aparecen del lado izquierdo en la pestaña de folder.\n",
        "\n",
        "Tendrás que ir cambiando el nombre del folder mientras generas (00003, 00004, etc.)"
      ]
    },
    {
      "cell_type": "code",
      "metadata": {
        "id": "tp8O01O3PlFx",
        "colab_type": "code",
        "colab": {}
      },
      "source": [
        "##Primer comando es el nombre que le das al archivo, segundo es donde está el folder que acabas de generar.\n",
        "\n",
        "!zip -r ../../Gradientes-Imgs.zip ./results/00009-generate-images"
      ],
      "execution_count": null,
      "outputs": []
    }
  ]
}